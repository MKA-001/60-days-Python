{
 "cells": [
  {
   "cell_type": "code",
   "execution_count": 1,
   "id": "307f0b70-9f10-4e91-be8f-60dc28143a59",
   "metadata": {},
   "outputs": [
    {
     "data": {
      "text/plain": [
       "'data science'"
      ]
     },
     "execution_count": 1,
     "metadata": {},
     "output_type": "execute_result"
    }
   ],
   "source": [
    "'data science'"
   ]
  },
  {
   "cell_type": "code",
   "execution_count": 9,
   "id": "7e77d74e-d21e-46cf-95b0-0d6cdb342931",
   "metadata": {},
   "outputs": [
    {
     "name": "stdout",
     "output_type": "stream",
     "text": [
      "Hello World & Welcome to Python Class."
     ]
    }
   ],
   "source": [
    "print('Hello World',  'Welcome to Python Class', sep = ' & ', end = '.')#shift + Tab"
   ]
  },
  {
   "cell_type": "code",
   "execution_count": 1,
   "id": "90730877-b5c6-427d-b64c-d62f116d4b13",
   "metadata": {},
   "outputs": [],
   "source": [
    "k = 'khorshed'"
   ]
  },
  {
   "cell_type": "code",
   "execution_count": 2,
   "id": "00be5023-e9e7-42ac-a44e-751d485f1769",
   "metadata": {},
   "outputs": [
    {
     "data": {
      "text/plain": [
       "'khorshed'"
      ]
     },
     "execution_count": 2,
     "metadata": {},
     "output_type": "execute_result"
    }
   ],
   "source": [
    "k"
   ]
  },
  {
   "cell_type": "code",
   "execution_count": 5,
   "id": "ed4a1641-f472-4f50-b5ce-883633c14387",
   "metadata": {},
   "outputs": [],
   "source": [
    "l = 'alam'"
   ]
  },
  {
   "cell_type": "code",
   "execution_count": 6,
   "id": "bf77d916-05cd-425f-8fde-66a6c1c1eff7",
   "metadata": {},
   "outputs": [
    {
     "data": {
      "text/plain": [
       "'alam'"
      ]
     },
     "execution_count": 6,
     "metadata": {},
     "output_type": "execute_result"
    }
   ],
   "source": [
    "l\n"
   ]
  },
  {
   "cell_type": "code",
   "execution_count": 7,
   "id": "278df87a-7729-4126-93e4-315d8221f832",
   "metadata": {},
   "outputs": [
    {
     "name": "stdout",
     "output_type": "stream",
     "text": [
      "khorshed\n"
     ]
    }
   ],
   "source": [
    "print(k)"
   ]
  },
  {
   "cell_type": "code",
   "execution_count": 16,
   "id": "65a9a565-5bbe-4fd9-8b11-6c2e90e69496",
   "metadata": {},
   "outputs": [
    {
     "name": "stdout",
     "output_type": "stream",
     "text": [
      "My Name is Md khorshedalam\n"
     ]
    }
   ],
   "source": [
    "print('My Name is Md ' + k  + l, sep = ' ')"
   ]
  },
  {
   "cell_type": "code",
   "execution_count": 17,
   "id": "dd2ce91d-62d1-4608-9599-085679824724",
   "metadata": {},
   "outputs": [
    {
     "data": {
      "text/plain": [
       "2138892006192"
      ]
     },
     "execution_count": 17,
     "metadata": {},
     "output_type": "execute_result"
    }
   ],
   "source": [
    "id(k)"
   ]
  },
  {
   "cell_type": "code",
   "execution_count": 18,
   "id": "c5c76d0d-81c2-4228-9701-688b52924a55",
   "metadata": {},
   "outputs": [],
   "source": [
    "import sys"
   ]
  },
  {
   "cell_type": "code",
   "execution_count": 19,
   "id": "e6cb2c75-55f9-455f-a3f2-529c1951e034",
   "metadata": {},
   "outputs": [
    {
     "data": {
      "text/plain": [
       "57"
      ]
     },
     "execution_count": 19,
     "metadata": {},
     "output_type": "execute_result"
    }
   ],
   "source": [
    "sys.getsizeof(k)"
   ]
  },
  {
   "cell_type": "code",
   "execution_count": 20,
   "id": "5de6628d-f259-49d2-9b53-0805c8ebdd7e",
   "metadata": {},
   "outputs": [],
   "source": [
    "name = 'khorshed alam'"
   ]
  },
  {
   "cell_type": "code",
   "execution_count": 21,
   "id": "d8d2e386-387a-4f8e-9856-fedc7b45c073",
   "metadata": {},
   "outputs": [
    {
     "name": "stdout",
     "output_type": "stream",
     "text": [
      "khorshed alam\n"
     ]
    }
   ],
   "source": [
    "print(name)"
   ]
  },
  {
   "cell_type": "code",
   "execution_count": 22,
   "id": "43e49653-06ee-4c91-8b9d-596e303d7f57",
   "metadata": {},
   "outputs": [],
   "source": [
    "var = 100"
   ]
  },
  {
   "cell_type": "code",
   "execution_count": 23,
   "id": "b1407b25-e2ee-472f-adaa-c63daf2496a0",
   "metadata": {},
   "outputs": [
    {
     "data": {
      "text/plain": [
       "98"
      ]
     },
     "execution_count": 23,
     "metadata": {},
     "output_type": "execute_result"
    }
   ],
   "source": [
    "var - 2"
   ]
  },
  {
   "cell_type": "code",
   "execution_count": 24,
   "id": "35138728-8c65-424a-a959-254d23e5ed94",
   "metadata": {},
   "outputs": [],
   "source": [
    "var_1 = 20"
   ]
  },
  {
   "cell_type": "code",
   "execution_count": 25,
   "id": "7b20f8e3-5868-42fe-9372-eda3fd756ec9",
   "metadata": {},
   "outputs": [
    {
     "name": "stdout",
     "output_type": "stream",
     "text": [
      "120\n"
     ]
    }
   ],
   "source": [
    "print(var+var_1)"
   ]
  },
  {
   "cell_type": "code",
   "execution_count": 26,
   "id": "ea3796ad-fd09-4cad-84d6-3a9b1796fc73",
   "metadata": {},
   "outputs": [
    {
     "data": {
      "text/plain": [
       "60"
      ]
     },
     "execution_count": 26,
     "metadata": {},
     "output_type": "execute_result"
    }
   ],
   "source": [
    "100 - 40"
   ]
  },
  {
   "cell_type": "code",
   "execution_count": 27,
   "id": "53e78da2-bec7-46af-b7f9-e21463fde7a4",
   "metadata": {},
   "outputs": [],
   "source": [
    "x, y, z = 300, 450, 400"
   ]
  },
  {
   "cell_type": "code",
   "execution_count": 28,
   "id": "188beaff-6ab3-4696-94dc-bbb9272132b3",
   "metadata": {},
   "outputs": [
    {
     "name": "stdout",
     "output_type": "stream",
     "text": [
      "750\n"
     ]
    }
   ],
   "source": [
    "print(x+y)"
   ]
  },
  {
   "cell_type": "code",
   "execution_count": 1,
   "id": "99a00df1-53fb-4221-981a-8a82af02f142",
   "metadata": {},
   "outputs": [],
   "source": [
    "varsityid = 199"
   ]
  },
  {
   "cell_type": "code",
   "execution_count": 2,
   "id": "f2e4d5f8-a01a-4c9e-8a45-9774051df776",
   "metadata": {},
   "outputs": [],
   "source": [
    "Varsity_Id = 999"
   ]
  },
  {
   "cell_type": "code",
   "execution_count": 3,
   "id": "f62460c7-a4a4-4747-b7ab-40f0bec18a31",
   "metadata": {},
   "outputs": [],
   "source": [
    "X = 299\n",
    "x = 300"
   ]
  },
  {
   "cell_type": "code",
   "execution_count": 4,
   "id": "5765cdb6-cbcb-4bd5-8f66-a5acf3ba3b83",
   "metadata": {},
   "outputs": [
    {
     "name": "stdout",
     "output_type": "stream",
     "text": [
      " My number is  100\n",
      " My number is  5000\n"
     ]
    }
   ],
   "source": [
    "y = 5000\n",
    "def func():\n",
    "    y = 100\n",
    "    print(\" My number is \", y)\n",
    "func()\n",
    "print(\" My number is \" , y)\n",
    "    "
   ]
  },
  {
   "cell_type": "code",
   "execution_count": 5,
   "id": "273db504-9a18-4941-a09a-66953927eb4c",
   "metadata": {},
   "outputs": [
    {
     "name": "stdout",
     "output_type": "stream",
     "text": [
      " Number  5600\n",
      " My number is  7800\n"
     ]
    }
   ],
   "source": [
    "z = 7800\n",
    "def func1():\n",
    "    z = 5600\n",
    "    print(\" Number \", z)\n",
    "func1()\n",
    "print(\" My number is \", z)"
   ]
  },
  {
   "cell_type": "code",
   "execution_count": 7,
   "id": "a3ff0c5b-4294-4eeb-be72-66700dedc36a",
   "metadata": {},
   "outputs": [
    {
     "name": "stdout",
     "output_type": "stream",
     "text": [
      " Number  4500\n",
      " My number is  4500\n"
     ]
    }
   ],
   "source": [
    "p = 2000\n",
    "def func3():\n",
    "    global p \n",
    "    p = 4500\n",
    "    print(\" Number \", p)\n",
    "func3()\n",
    "print(\" My number is \", p)"
   ]
  },
  {
   "cell_type": "code",
   "execution_count": null,
   "id": "1d75908f-243a-4957-9490-aaf668fb0902",
   "metadata": {},
   "outputs": [],
   "source": []
  }
 ],
 "metadata": {
  "kernelspec": {
   "display_name": "Python 3 (ipykernel)",
   "language": "python",
   "name": "python3"
  },
  "language_info": {
   "codemirror_mode": {
    "name": "ipython",
    "version": 3
   },
   "file_extension": ".py",
   "mimetype": "text/x-python",
   "name": "python",
   "nbconvert_exporter": "python",
   "pygments_lexer": "ipython3",
   "version": "3.11.7"
  }
 },
 "nbformat": 4,
 "nbformat_minor": 5
}
